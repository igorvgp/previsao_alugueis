{
 "cells": [
  {
   "cell_type": "code",
   "execution_count": 16,
   "id": "ec32ffe2",
   "metadata": {},
   "outputs": [],
   "source": [
    "# Conexões\n",
    "import requests"
   ]
  },
  {
   "cell_type": "code",
   "execution_count": 32,
   "id": "61004438",
   "metadata": {},
   "outputs": [
    {
     "data": {
      "text/plain": [
       "{'Valor aluguel': 4476.155171152954}"
      ]
     },
     "execution_count": 32,
     "metadata": {},
     "output_type": "execute_result"
    }
   ],
   "source": [
    "# Local da URL\n",
    "url = 'http://127.0.0.1:5000/API_Preditivo/70;2;1;1;7;1;1;2065;211'\n",
    "\n",
    "consulta = requests.get(url)\n",
    "\n",
    "# Buscar info\n",
    "resposta = consulta.json()\n",
    "\n",
    "# Devolução\n",
    "resposta"
   ]
  }
 ],
 "metadata": {
  "kernelspec": {
   "display_name": "Python 3 (ipykernel)",
   "language": "python",
   "name": "python3"
  },
  "language_info": {
   "codemirror_mode": {
    "name": "ipython",
    "version": 3
   },
   "file_extension": ".py",
   "mimetype": "text/x-python",
   "name": "python",
   "nbconvert_exporter": "python",
   "pygments_lexer": "ipython3",
   "version": "3.9.10"
  }
 },
 "nbformat": 4,
 "nbformat_minor": 5
}
