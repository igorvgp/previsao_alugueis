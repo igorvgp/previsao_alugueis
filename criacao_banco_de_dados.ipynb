{
 "cells": [
  {
   "cell_type": "code",
   "execution_count": 6,
   "id": "fe08ccc4",
   "metadata": {},
   "outputs": [],
   "source": [
    "# Lib para banco de dados\n",
    "import sqlite3\n",
    "\n",
    "# Criando banco [caso exista ele faz a conexão, caso contrario ele cria o banco]\n",
    "conexao_banco = sqlite3.connect('Banco_dados_API.db')"
   ]
  },
  {
   "cell_type": "code",
   "execution_count": 19,
   "id": "30f60979",
   "metadata": {},
   "outputs": [],
   "source": [
    "# Apontar para o banco de dados\n",
    "cursor = conexao_banco.cursor()"
   ]
  },
  {
   "cell_type": "code",
   "execution_count": 20,
   "id": "f17726bf",
   "metadata": {},
   "outputs": [],
   "source": [
    "# Criar tabela no banco\n",
    "\n",
    "query_criar_banco = '''\n",
    "\n",
    "CREATE TABLE Log_API (\n",
    "    id INTEGER NOT NULL PRIMARY KEY AUTOINCREMENT,\n",
    "    Inputs TEXT,\n",
    "    Inicio TEXT,\n",
    "    Fim TEXT,\n",
    "    Processamento TEXT\n",
    ")\n",
    "\n",
    "'''\n",
    "# Executa a query\n",
    "#cursor.execute(query_criar_banco)"
   ]
  },
  {
   "cell_type": "code",
   "execution_count": 21,
   "id": "b46726bf",
   "metadata": {},
   "outputs": [],
   "source": [
    "# Inserir informação\n",
    "\n",
    "query_inserir = '''\n",
    "    INSERT INTO Log_API (Inputs, Inicio, Fim, Processamento)\n",
    "    VALUES ('480;4;5;3;0;1;0;0;742','01/01/200 19:00:01','01/01/200 19:00:02', '00:01')\n",
    "\n",
    "'''\n",
    "# Executa a query\n",
    "cursor.execute(query_inserir)\n",
    "\n",
    "# Commit (toda vez que é inserido um dado)\n",
    "conexao_banco.commit()"
   ]
  },
  {
   "cell_type": "code",
   "execution_count": 23,
   "id": "cddea51c",
   "metadata": {},
   "outputs": [
    {
     "data": {
      "text/plain": [
       "[(5,\n",
       "  '480;4;5;3;0;1;0;0;742',\n",
       "  '01/01/200 19:00:01',\n",
       "  '01/01/200 19:00:02',\n",
       "  '00:01'),\n",
       " (6,\n",
       "  ';[70.0, 2.0, 1.0, 1.0, 7.0, 1.0, 1.0, 2065.0, 211.0];4476.155171152954',\n",
       "  '2022-09-26 11:46:51.294692',\n",
       "  '2022-09-26 11:46:51.304593',\n",
       "  '0:00:00.009901')]"
      ]
     },
     "execution_count": 23,
     "metadata": {},
     "output_type": "execute_result"
    }
   ],
   "source": [
    "# Consulta\n",
    "\n",
    "query_consulta = '''\n",
    "\n",
    "SELECT * FROM Log_API\n",
    "\n",
    "\n",
    "'''\n",
    "# Executa a query\n",
    "cursor.execute(query_consulta).fetchall()"
   ]
  }
 ],
 "metadata": {
  "kernelspec": {
   "display_name": "Python 3 (ipykernel)",
   "language": "python",
   "name": "python3"
  },
  "language_info": {
   "codemirror_mode": {
    "name": "ipython",
    "version": 3
   },
   "file_extension": ".py",
   "mimetype": "text/x-python",
   "name": "python",
   "nbconvert_exporter": "python",
   "pygments_lexer": "ipython3",
   "version": "3.9.10"
  }
 },
 "nbformat": 4,
 "nbformat_minor": 5
}
